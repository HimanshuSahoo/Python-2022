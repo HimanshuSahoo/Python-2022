{
  "cells": [
    {
      "cell_type": "markdown",
      "metadata": {
        "id": "view-in-github",
        "colab_type": "text"
      },
      "source": [
        "<a href=\"https://colab.research.google.com/github/HimanshuSahoo/Python-2022/blob/main/Left_Half_Pyramid.ipynb\" target=\"_parent\"><img src=\"https://colab.research.google.com/assets/colab-badge.svg\" alt=\"Open In Colab\"/></a>"
      ]
    },
    {
      "cell_type": "code",
      "execution_count": null,
      "id": "1a14611d",
      "metadata": {
        "id": "1a14611d",
        "outputId": "35c9cc07-dc54-4aea-9145-082bb65180f7"
      },
      "outputs": [
        {
          "name": "stdout",
          "output_type": "stream",
          "text": [
            "                  * \r\n",
            "                * * \r\n",
            "              * * * \r\n",
            "            * * * * \r\n",
            "          * * * * * \r\n",
            "        * * * * * * \r\n",
            "      * * * * * * * \r\n",
            "    * * * * * * * * \r\n",
            "  * * * * * * * * * \r\n",
            "* * * * * * * * * * \r\n"
          ]
        }
      ],
      "source": [
        "def pattern(n):\n",
        "    k= 2*n - 2\n",
        "    for i in range(0, n):\n",
        "        for j in range(0, k):\n",
        "            print(end=\" \")\n",
        "        k=k-2\n",
        "        for j in range(0,i+1):\n",
        "            print(\"* \", end=\"\")\n",
        "        print(\"\\r\")\n",
        "pattern(10)"
      ]
    },
    {
      "cell_type": "code",
      "execution_count": null,
      "id": "3e664416",
      "metadata": {
        "id": "3e664416"
      },
      "outputs": [],
      "source": [
        ""
      ]
    }
  ],
  "metadata": {
    "kernelspec": {
      "display_name": "Python 3",
      "language": "python",
      "name": "python3"
    },
    "language_info": {
      "codemirror_mode": {
        "name": "ipython",
        "version": 3
      },
      "file_extension": ".py",
      "mimetype": "text/x-python",
      "name": "python",
      "nbconvert_exporter": "python",
      "pygments_lexer": "ipython3",
      "version": "3.8.8"
    },
    "toc": {
      "base_numbering": 1,
      "nav_menu": {},
      "number_sections": true,
      "sideBar": true,
      "skip_h1_title": false,
      "title_cell": "Table of Contents",
      "title_sidebar": "Contents",
      "toc_cell": false,
      "toc_position": {},
      "toc_section_display": true,
      "toc_window_display": false
    },
    "varInspector": {
      "cols": {
        "lenName": 16,
        "lenType": 16,
        "lenVar": 40
      },
      "kernels_config": {
        "python": {
          "delete_cmd_postfix": "",
          "delete_cmd_prefix": "del ",
          "library": "var_list.py",
          "varRefreshCmd": "print(var_dic_list())"
        },
        "r": {
          "delete_cmd_postfix": ") ",
          "delete_cmd_prefix": "rm(",
          "library": "var_list.r",
          "varRefreshCmd": "cat(var_dic_list()) "
        }
      },
      "types_to_exclude": [
        "module",
        "function",
        "builtin_function_or_method",
        "instance",
        "_Feature"
      ],
      "window_display": false
    },
    "colab": {
      "name": "Left Half Pyramid.ipynb",
      "provenance": [],
      "include_colab_link": true
    }
  },
  "nbformat": 4,
  "nbformat_minor": 5
}