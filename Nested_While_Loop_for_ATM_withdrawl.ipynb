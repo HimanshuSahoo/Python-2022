{
  "cells": [
    {
      "cell_type": "markdown",
      "metadata": {
        "id": "view-in-github",
        "colab_type": "text"
      },
      "source": [
        "<a href=\"https://colab.research.google.com/github/HimanshuSahoo/Python-2022/blob/main/Nested_While_Loop_for_ATM_withdrawl.ipynb\" target=\"_parent\"><img src=\"https://colab.research.google.com/assets/colab-badge.svg\" alt=\"Open In Colab\"/></a>"
      ]
    },
    {
      "cell_type": "code",
      "execution_count": null,
      "id": "3c19e9c1",
      "metadata": {
        "id": "3c19e9c1",
        "outputId": "cafa9abb-8b8d-4411-b623-28a219dc364e"
      },
      "outputs": [
        {
          "name": "stdout",
          "output_type": "stream",
          "text": [
            "Welcome to GBP Bank ATM\n",
            "Please enter your 4 digit pin: 1234\n",
            "You entered your pin correctly\n",
            "\n",
            "Please press 1 for your Balance\n",
            "\n",
            "Please press 2 to make a withdrawl\n",
            "\n",
            "Please press 3 to Pay in\n",
            "\n",
            "Please press 4 to Return card\n",
            "\n",
            "What would you like to choose?1\n",
            "Your balance is A£ 98.4 \n",
            "\n",
            "Would you like to go back? y\n",
            "Please press 1 for your Balance\n",
            "\n",
            "Please press 2 to make a withdrawl\n",
            "\n",
            "Please press 3 to Pay in\n",
            "\n",
            "Please press 4 to Return card\n",
            "\n",
            "What would you like to choose?2\n",
            "How much Would you like to Withdraw? \n",
            "A£10/A£20/A£40/A£60/A£80/A£10010\n",
            "\n",
            " Your balance is now A£ 88.4\n",
            "Would you like to go back? y\n",
            "Please press 1 for your Balance\n",
            "\n",
            "Please press 2 to make a withdrawl\n",
            "\n",
            "Please press 3 to Pay in\n",
            "\n",
            "Please press 4 to Return card\n",
            "\n",
            "What would you like to choose?3\n",
            "How much would you like to Pay In?10\n",
            "\n",
            " Your balance is now A£, Balance\n",
            "Would you like to go back?y\n",
            "Please press 1 for your Balance\n",
            "\n",
            "Please press 2 to make a withdrawl\n",
            "\n",
            "Please press 3 to Pay in\n",
            "\n",
            "Please press 4 to Return card\n",
            "\n",
            "What would you like to choose?4\n",
            "Please Wait Whilst Your Card in Returned...\n",
            "\n",
            "Thank you for your Service\n",
            "Please enter your 4 digit pin: 1234\n",
            "You entered your pin correctly\n",
            "\n",
            "Please press 1 for your Balance\n",
            "\n",
            "Please press 2 to make a withdrawl\n",
            "\n",
            "Please press 3 to Pay in\n",
            "\n",
            "Please press 4 to Return card\n",
            "\n",
            "What would you like to choose?4\n",
            "Please Wait Whilst Your Card in Returned...\n",
            "\n",
            "Thank you for your Service\n"
          ]
        }
      ],
      "source": [
        "print(\"Welcome to GBP Bank ATM\")\n",
        "restart=\"Y\"\n",
        "chances=3\n",
        "balance=98.4\n",
        "while chances >= 0:\n",
        "    pin = int(input(\"Please enter your 4 digit pin: \"))\n",
        "    if pin == (1234):\n",
        "        print(\"You entered your pin correctly\\n\")\n",
        "        while restart not in ('n','no','No','N'):\n",
        "            print('Please press 1 for your Balance\\n')\n",
        "            print('Please press 2 to make a withdrawl\\n')\n",
        "            print('Please press 3 to Pay in\\n')\n",
        "            print('Please press 4 to Return card\\n')\n",
        "            option = int(input('What would you like to choose?'))\n",
        "            if option == 1:\n",
        "                print('Your balance is A£',balance,\"\\n\")\n",
        "                restart = input('Would you like to go back? ')\n",
        "                if restart in ('n','no','No','N'):\n",
        "                    print ('Thank you')\n",
        "                    break\n",
        "            elif option == 2:\n",
        "                option2 = 'y'\n",
        "                withdrawl = float(input('How much Would you like to Withdraw? \\nA£10/A£20/A£40/A£60/A£80/A£100'))\n",
        "                if withdrawl in [10,20,40, 60, 80, 100]:\n",
        "                    balance = balance - withdrawl\n",
        "                    print('\\n Your balance is now A£', balance)\n",
        "                    restart = input('Would you like to go back? ')\n",
        "                    if restart in ('n','no','No','N'):\n",
        "                        print ('Thank you')\n",
        "                        break\n",
        "                elif withdrawl != [10,20,40, 60, 80, 100]:\n",
        "                          print ('Invalid Amount, Please Re-try \\n')\n",
        "                          restart = ('y')\n",
        "                elif withdrawl == 1:\n",
        "                          withdrawl = float(input('Please Enter Desired Amount:'))\n",
        "            elif option == 3:\n",
        "                pay_in = float(input('How much would you like to Pay In?'))\n",
        "                balance = balance + pay_in\n",
        "                print('\\n Your balance is now A£, Balance')\n",
        "                restart = input('Would you like to go back?')\n",
        "                if restart in ('n','no','No','N'):\n",
        "                    print ('Thank you')\n",
        "                    break\n",
        "            elif option == 4:\n",
        "                print('Please Wait Whilst Your Card in Returned...\\n')\n",
        "                print('Thank you for your Service')\n",
        "                break\n",
        "            else:\n",
        "                print('Please enter a correct Number. \\n')\n",
        "                restart = 'y'\n",
        "    elif pin != ('1234'):\n",
        "        print ('Incorrect Password')\n",
        "        chances = chances - 1\n",
        "        if chance == 0:\n",
        "            print ('No more tries')\n",
        "            break\n",
        "                \n",
        "                          \n",
        "                            \n",
        "                          \n",
        "                          \n",
        "                "
      ]
    },
    {
      "cell_type": "code",
      "execution_count": null,
      "id": "b5c1d6af",
      "metadata": {
        "id": "b5c1d6af"
      },
      "outputs": [],
      "source": [
        ""
      ]
    }
  ],
  "metadata": {
    "kernelspec": {
      "display_name": "Python 3",
      "language": "python",
      "name": "python3"
    },
    "language_info": {
      "codemirror_mode": {
        "name": "ipython",
        "version": 3
      },
      "file_extension": ".py",
      "mimetype": "text/x-python",
      "name": "python",
      "nbconvert_exporter": "python",
      "pygments_lexer": "ipython3",
      "version": "3.8.8"
    },
    "toc": {
      "base_numbering": 1,
      "nav_menu": {},
      "number_sections": true,
      "sideBar": true,
      "skip_h1_title": false,
      "title_cell": "Table of Contents",
      "title_sidebar": "Contents",
      "toc_cell": false,
      "toc_position": {},
      "toc_section_display": true,
      "toc_window_display": false
    },
    "varInspector": {
      "cols": {
        "lenName": 16,
        "lenType": 16,
        "lenVar": 40
      },
      "kernels_config": {
        "python": {
          "delete_cmd_postfix": "",
          "delete_cmd_prefix": "del ",
          "library": "var_list.py",
          "varRefreshCmd": "print(var_dic_list())"
        },
        "r": {
          "delete_cmd_postfix": ") ",
          "delete_cmd_prefix": "rm(",
          "library": "var_list.r",
          "varRefreshCmd": "cat(var_dic_list()) "
        }
      },
      "types_to_exclude": [
        "module",
        "function",
        "builtin_function_or_method",
        "instance",
        "_Feature"
      ],
      "window_display": false
    },
    "colab": {
      "name": "Nested While Loop for ATM withdrawl.ipynb",
      "provenance": [],
      "include_colab_link": true
    }
  },
  "nbformat": 4,
  "nbformat_minor": 5
}